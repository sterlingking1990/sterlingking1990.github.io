{
 "cells": [
  {
   "cell_type": "markdown",
   "metadata": {},
   "source": [
    "#SECOND POST"
   ]
  },
  {
   "cell_type": "markdown",
   "metadata": {},
   "source": [
    "This is the second post in the series"
   ]
  },
  {
   "cell_type": "code",
   "execution_count": 18,
   "metadata": {
    "collapsed": false
   },
   "outputs": [
    {
     "name": "stdout",
     "output_type": "stream",
     "text": [
      "Proportion of those that dont celebrate is : \n",
      "78 out of 1058persons do not celebrate thanksgiving\n",
      "Hence 7% do not celebrate thanksgiving\n",
      "1 out of every 12 persons are ungrateful\n",
      "---Question 3 has been answered----\n",
      "------------****************************question 2************************************-----------------------\n",
      "here is the styles for cooking \n",
      "Ham/Pork-Baked --- 22\n",
      "Chicken-Fried --- 2\n",
      "Other (please specify)-Baked --- 16\n",
      "Tofurkey-I don't know --- 1\n",
      "Turkey-Other (please specify) --- 34\n",
      "Turkey-Fried --- 41\n",
      "Other (please specify)-Roasted --- 5\n",
      "Roast beef-Baked --- 3\n",
      "Tofurkey-Roasted --- 4\n",
      "I don't know-Roasted --- 1\n",
      "I don't know-I don't know --- 3\n",
      "Roast beef-Other (please specify) --- 1\n",
      "Chicken-Baked --- 4\n",
      "Chicken-Other (please specify) --- 2\n",
      "Other (please specify)-Other (please specify) --- 12\n",
      "Chicken-Roasted --- 4\n",
      "Turkey-Roasted --- 351\n",
      "Ham/Pork-I don't know --- 1\n",
      "Turkey-Baked --- 422\n",
      "Turkey-I don't know --- 11\n",
      "Tofurkey-Other (please specify) --- 1\n",
      "I don't know-Fried --- 1\n",
      "Ham/Pork-Roasted --- 5\n",
      "Ham/Pork-Other (please specify) --- 1\n",
      "Tofurkey-Baked --- 14\n",
      "Roast beef-Roasted --- 5\n",
      "Other (please specify)-Fried --- 1\n",
      "Roast beef-Fried --- 2\n",
      "Turducken-Roasted --- 3\n",
      "Other (please specify)-I don't know --- 1\n"
     ]
    }
   ],
   "source": [
    "#this is a thanksgiving data analaysis program, a step to data science\n",
    "#in this program we want to answer the following question\n",
    "#what cooking style can be recommended for a particular choice of food for thanksgiving\n",
    "#what kind of food are people most likely to eat during thanksgiving and how many eat each kind\n",
    "#what proportion of people celebrate thanksgiving\n",
    "\n",
    "import pandas as pd\n",
    "import numpy as np\n",
    "\n",
    "thanksgiving = pd.read_csv(\"thanks.csv\",engine=\"python\") #use engine=python if encoding error\n",
    "i_celebrate=thanksgiving[thanksgiving[\"Do you celebrate Thanksgiving?\"]==\"Yes\"]\n",
    "i_dont_celebrate=thanksgiving[thanksgiving[\"Do you celebrate Thanksgiving?\"]==\"No\"]\n",
    "total_who_celebrate=int(len(i_celebrate) + len(i_dont_celebrate))\n",
    "percentage_who_dont_celebrate=int((len(i_dont_celebrate)/(total_who_celebrate)*100))\n",
    "print(\"Proportion of those that dont celebrate is : \")\n",
    "print(str(i_dont_celebrate.shape[0]) + \" out of \" + str(total_who_celebrate) + \"persons do not celebrate thanksgiving\")\n",
    "print(\"Hence \" + str(percentage_who_dont_celebrate) + \"% do not celebrate thanksgiving\" ) \n",
    "print(\"1 out of every \" + str(int(len(i_celebrate)/len(i_dont_celebrate))) + \" persons are ungrateful\")\n",
    "\n",
    "print(\"---Question 3 has been answered----\")\n",
    "\n",
    "print(\"------------****************************question 2************************************-----------------------\")\n",
    "\n",
    "food_choices=thanksgiving[\"What is typically the main dish at your Thanksgiving dinner?\"].unique()\n",
    "food_choices=list(food_choices)\n",
    "food_people={}\n",
    "food_styles={}\n",
    "for c in food_choices:\n",
    "    this_c_df=thanksgiving[thanksgiving[\"What is typically the main dish at your Thanksgiving dinner?\"]==c]\n",
    "    styles_cook=this_c_df[\"How is the main dish typically cooked?\"].unique()\n",
    "    for style in styles_cook:\n",
    "        food_style=this_c_df[this_c_df[\"How is the main dish typically cooked?\"]==style]\n",
    "        num_who_use_this_style=len(food_style)\n",
    "        food_styles[c +'-'+ style]=num_who_use_this_style\n",
    "    num_eat_c=this_c_df.shape[0]\n",
    "    food_people[c]=num_eat_c\n",
    "\n",
    "#countlist=[]\n",
    "#for key in food_people:\n",
    "#    countlist.append(food_people[key])\n",
    "#countlist.remove(859)\n",
    "#print(countlist)\n",
    "\n",
    "print(\"here is the styles for cooking \")\n",
    "for i in food_styles:\n",
    "    print(i  +\" --- \"+  str(food_styles[i]))\n",
    "\n",
    "\n"
   ]
  },
  {
   "cell_type": "code",
   "execution_count": 7,
   "metadata": {
    "collapsed": false
   },
   "outputs": [
    {
     "name": "stdout",
     "output_type": "stream",
     "text": [
      "Yes    980\n",
      "No      78\n",
      "dtype: int64\n",
      "Turkey                    859\n",
      "Other (please specify)     35\n",
      "Ham/Pork                   29\n",
      "Tofurkey                   20\n",
      "Chicken                    12\n",
      "Roast beef                 11\n",
      "I don't know                5\n",
      "Turducken                   3\n",
      "dtype: int64\n",
      "Yes    12\n",
      "No      8\n",
      "dtype: int64\n"
     ]
    }
   ],
   "source": [
    "import pandas as pd\n",
    "data=pd.read_csv(\"thanksgiving.csv\",encoding=\"Latin-1\")\n",
    "cat_yes_no=data[\"Do you celebrate Thanksgiving?\"].value_counts()\n",
    "main_dish=data[\"What is typically the main dish at your Thanksgiving dinner?\"]\n",
    "main_dish_count=data[\"What is typically the main dish at your Thanksgiving dinner?\"].value_counts()\n",
    "print(cat_yes_no)\n",
    "print(main_dish_count)\n",
    "main_dish_tofurkey=data[main_dish==\"Tofurkey\"]\n",
    "main_dish_tofurkey_yes_no=main_dish_tofurkey[\"Do you typically have gravy?\"].value_counts()\n",
    "print(main_dish_tofurkey_yes_no)\n"
   ]
  },
  {
   "cell_type": "code",
   "execution_count": 8,
   "metadata": {
    "collapsed": false
   },
   "outputs": [
    {
     "name": "stdout",
     "output_type": "stream",
     "text": [
      "{False: 876, True: 182}\n"
     ]
    }
   ],
   "source": [
    "import pandas as pd\n",
    "apple=data[\"Which type of pie is typically served at your Thanksgiving dinner? Please select all that apply. - Apple\"]\n",
    "apple_isnull=pd.isnull(apple)\n",
    "pumpkin=data[\"Which type of pie is typically served at your Thanksgiving dinner? Please select all that apply. - Pumpkin\"]\n",
    "pumpkin_isnull=pd.isnull(pumpkin)\n",
    "pecan=data[\"Which type of pie is typically served at your Thanksgiving dinner? Please select all that apply. - Pecan\"]\n",
    "pecan_isnull=pd.isnull(pecan)\n",
    "ate_pies=apple_isnull & pumpkin_isnull & pecan_isnull\n",
    "data[\"ate_pies\"]=ate_pies\n",
    "cat_ate_pies=data[\"ate_pies\"].unique()\n",
    "cat_count={}\n",
    "for c in cat_ate_pies:\n",
    "    this_c=data[data[\"ate_pies\"]==c]\n",
    "    cat_count[c]=this_c.shape[0]\n",
    "\n",
    "print(cat_count)\n"
   ]
  },
  {
   "cell_type": "code",
   "execution_count": 12,
   "metadata": {
    "collapsed": false
   },
   "outputs": [
    {
     "name": "stdout",
     "output_type": "stream",
     "text": [
      "count    1025.000000\n",
      "mean       39.383415\n",
      "std        15.398493\n",
      "min        18.000000\n",
      "25%        30.000000\n",
      "50%        45.000000\n",
      "75%        60.000000\n",
      "max        60.000000\n",
      "Name: int_age, dtype: float64\n"
     ]
    }
   ],
   "source": [
    "def return_int_agestring(age_string):\n",
    "    if(pd.isnull(age_string)):\n",
    "        return None\n",
    "    age_string=age_string.split(\" \")[0]\n",
    "    age_string=age_string.replace(\"+\", \"\")\n",
    "    \n",
    "    return int(age_string)\n",
    "import pandas as pd\n",
    "data=pd.read_csv(\"thanksgiving.csv\",encoding=\"Latin-1\")\n",
    "age_integer=data[\"Age\"].apply(return_int_agestring)\n",
    "data[\"int_age\"]=age_integer\n",
    "result_described=data[\"int_age\"].describe()\n",
    "print(result_described)\n",
    "#print(data[\"Age\"].value_counts())\n",
    "#print(data[\"int_age\"].value_counts())"
   ]
  },
  {
   "cell_type": "code",
   "execution_count": 19,
   "metadata": {
    "collapsed": false
   },
   "outputs": [
    {
     "name": "stdout",
     "output_type": "stream",
     "text": [
      "$25,000 to $49,999      180\n",
      "Prefer not to answer    136\n",
      "$50,000 to $74,999      135\n",
      "$75,000 to $99,999      133\n",
      "$100,000 to $124,999    111\n",
      "$200,000 and up          80\n",
      "$10,000 to $24,999       68\n",
      "$0 to $9,999             66\n",
      "$125,000 to $149,999     49\n",
      "$150,000 to $174,999     40\n",
      "$175,000 to $199,999     27\n",
      "dtype: int64\n",
      "count       889.000000\n",
      "mean      74077.615298\n",
      "std       59360.742902\n",
      "min           0.000000\n",
      "25%       25000.000000\n",
      "50%       50000.000000\n",
      "75%      100000.000000\n",
      "max      200000.000000\n",
      "Name: int_income, dtype: float64\n"
     ]
    }
   ],
   "source": [
    "def return_intincome(string_income):\n",
    "    if(pd.isnull(string_income)):\n",
    "        return None\n",
    "    \n",
    "    string_income=string_income.split(\" \")[0]\n",
    "    if(string_income=='Prefer'):\n",
    "        return None\n",
    "    string_income=string_income.replace(\"$\", \"\")\n",
    "    string_income=string_income.replace(\",\", \"\")\n",
    "    return int(string_income)\n",
    "\n",
    "earn_count=data[\"How much total combined money did all members of your HOUSEHOLD earn last year?\"].value_counts()\n",
    "print(earn_count)\n",
    "income_integer=data[\"How much total combined money did all members of your HOUSEHOLD earn last year?\"].apply(return_intincome)\n",
    "data[\"int_income\"]=income_integer\n",
    "result_described=data[\"int_income\"].describe()\n",
    "print(result_described)\n",
    "\n"
   ]
  },
  {
   "cell_type": "markdown",
   "metadata": {},
   "source": [
    "Findings\n",
    "\n",
    "Although we only have a rough approximation of income, and it skews downward because we took the first value in each string (the lower bound), the average income seems to be fairly high, although there is also a large standard deviation."
   ]
  },
  {
   "cell_type": "code",
   "execution_count": 21,
   "metadata": {
    "collapsed": false
   },
   "outputs": [
    {
     "name": "stdout",
     "output_type": "stream",
     "text": [
      "Thanksgiving is happening at my home--I won't travel at all                         281\n",
      "Thanksgiving is local--it will take place in the town I live in                     203\n",
      "Thanksgiving is out of town but not too far--it's a drive of a few hours or less    150\n",
      "Thanksgiving is out of town and far away--I have to drive several hours or fly       55\n",
      "dtype: int64\n"
     ]
    }
   ],
   "source": [
    "travel_less_15=data[data[\"int_income\"]<150000]\n",
    "income=travel_less_15[\"int_income\"].values\n",
    "how_far=travel_less_15[\"How far will you travel for Thanksgiving?\"].value_counts()\n",
    "print(how_far)\n"
   ]
  },
  {
   "cell_type": "markdown",
   "metadata": {},
   "source": [
    "# INTERPRETATION\n",
    "i can hypothesize that more number of people earning less stayed at home for their thanksgiving and only few travelled to their parents home for thanksgiving"
   ]
  },
  {
   "cell_type": "code",
   "execution_count": 22,
   "metadata": {
    "collapsed": false
   },
   "outputs": [
    {
     "name": "stdout",
     "output_type": "stream",
     "text": [
      "Thanksgiving is happening at my home--I won't travel at all                         49\n",
      "Thanksgiving is local--it will take place in the town I live in                     25\n",
      "Thanksgiving is out of town but not too far--it's a drive of a few hours or less    16\n",
      "Thanksgiving is out of town and far away--I have to drive several hours or fly      12\n",
      "dtype: int64\n"
     ]
    }
   ],
   "source": [
    "travel_greater_15=data[data[\"int_income\"]>150000]\n",
    "income=travel_greater_15[\"int_income\"].values\n",
    "how_far_greater=travel_greater_15[\"How far will you travel for Thanksgiving?\"].value_counts()\n",
    "print(how_far_greater)"
   ]
  },
  {
   "cell_type": "markdown",
   "metadata": {},
   "source": [
    "# INTERPRETATION\n",
    "here the number of those who would travel for thanksgiving is one third of those staying at home for their thanksgiving"
   ]
  },
  {
   "cell_type": "code",
   "execution_count": 23,
   "metadata": {
    "collapsed": false
   },
   "outputs": [
    {
     "data": {
      "text/html": [
       "<div>\n",
       "<table border=\"1\" class=\"dataframe\">\n",
       "  <thead>\n",
       "    <tr style=\"text-align: right;\">\n",
       "      <th>Have you ever attended a \"Friendsgiving?\"</th>\n",
       "      <th>No</th>\n",
       "      <th>Yes</th>\n",
       "    </tr>\n",
       "    <tr>\n",
       "      <th>Have you ever tried to meet up with hometown friends on Thanksgiving night?</th>\n",
       "      <th></th>\n",
       "      <th></th>\n",
       "    </tr>\n",
       "  </thead>\n",
       "  <tbody>\n",
       "    <tr>\n",
       "      <th>No</th>\n",
       "      <td>42.283702</td>\n",
       "      <td>37.010526</td>\n",
       "    </tr>\n",
       "    <tr>\n",
       "      <th>Yes</th>\n",
       "      <td>41.475410</td>\n",
       "      <td>33.976744</td>\n",
       "    </tr>\n",
       "  </tbody>\n",
       "</table>\n",
       "</div>"
      ],
      "text/plain": [
       "Have you ever attended a \"Friendsgiving?\"                  No        Yes\n",
       "Have you ever tried to meet up with hometown fr...                      \n",
       "No                                                  42.283702  37.010526\n",
       "Yes                                                 41.475410  33.976744"
      ]
     },
     "execution_count": 23,
     "metadata": {},
     "output_type": "execute_result"
    }
   ],
   "source": [
    "data.pivot_table(\n",
    "    index=\"Have you ever tried to meet up with hometown friends on Thanksgiving night?\",\n",
    "    columns='Have you ever attended a \"Friendsgiving?\"',\n",
    "    values=\"int_age\"\n",
    ")"
   ]
  },
  {
   "cell_type": "code",
   "execution_count": 24,
   "metadata": {
    "collapsed": false
   },
   "outputs": [
    {
     "data": {
      "text/html": [
       "<div>\n",
       "<table border=\"1\" class=\"dataframe\">\n",
       "  <thead>\n",
       "    <tr style=\"text-align: right;\">\n",
       "      <th>Have you ever tried to meet up with hometown friends on Thanksgiving night?</th>\n",
       "      <th>No</th>\n",
       "      <th>Yes</th>\n",
       "    </tr>\n",
       "    <tr>\n",
       "      <th>Have you ever attended a \"Friendsgiving?\"</th>\n",
       "      <th></th>\n",
       "      <th></th>\n",
       "    </tr>\n",
       "  </thead>\n",
       "  <tbody>\n",
       "    <tr>\n",
       "      <th>No</th>\n",
       "      <td>78914.549654</td>\n",
       "      <td>78750.000000</td>\n",
       "    </tr>\n",
       "    <tr>\n",
       "      <th>Yes</th>\n",
       "      <td>72894.736842</td>\n",
       "      <td>66019.736842</td>\n",
       "    </tr>\n",
       "  </tbody>\n",
       "</table>\n",
       "</div>"
      ],
      "text/plain": [
       "Have you ever tried to meet up with hometown friends on Thanksgiving night?            No  \\\n",
       "Have you ever attended a \"Friendsgiving?\"                                                   \n",
       "No                                                                           78914.549654   \n",
       "Yes                                                                          72894.736842   \n",
       "\n",
       "Have you ever tried to meet up with hometown friends on Thanksgiving night?           Yes  \n",
       "Have you ever attended a \"Friendsgiving?\"                                                  \n",
       "No                                                                           78750.000000  \n",
       "Yes                                                                          66019.736842  "
      ]
     },
     "execution_count": 24,
     "metadata": {},
     "output_type": "execute_result"
    }
   ],
   "source": [
    "data.pivot_table(index='Have you ever attended a \"Friendsgiving?\"',\n",
    "                columns=\"Have you ever tried to meet up with hometown friends on Thanksgiving night?\",\n",
    "                values=\"int_income\")"
   ]
  },
  {
   "cell_type": "markdown",
   "metadata": {
    "collapsed": true
   },
   "source": [
    "#figuring out most common dessert people eat, \n",
    "do people eat one or more of:\n",
    "    Brownies\n",
    "    Peach cobbler\n",
    "    Fudge\n",
    "    Cookies\n",
    "    Apple cobbler\n",
    "    Blondies\n",
    "    Ice cream\n",
    "    Cheesecake\n",
    "    Carrot cake\n",
    "    "
   ]
  },
  {
   "cell_type": "code",
   "execution_count": 17,
   "metadata": {
    "collapsed": false
   },
   "outputs": [
    {
     "data": {
      "text/plain": [
       "False    577\n",
       "True     481\n",
       "dtype: int64"
      ]
     },
     "execution_count": 17,
     "metadata": {},
     "output_type": "execute_result"
    }
   ],
   "source": [
    "import pandas as pd\n",
    "data=pd.read_csv(\"thanks.csv\",encoding=\"Latin-1\")\n",
    "Brownies_isnull=pd.isnull(data[\"Which of these desserts do you typically have at Thanksgiving dinner? Please select all that apply.   - Brownies\"])\n",
    "Peach_isnull=pd.isnull(data[\"Which of these desserts do you typically have at Thanksgiving dinner? Please select all that apply.   - Peach cobbler\"])\n",
    "Fudge_isnull=pd.isnull(data[\"Which of these desserts do you typically have at Thanksgiving dinner? Please select all that apply.   - Fudge\"])\n",
    "Cookies_isnull=pd.isnull(data[\"Which of these desserts do you typically have at Thanksgiving dinner? Please select all that apply.   - Cookies\"])\n",
    "Apple_isnull=pd.isnull(data[\"Which of these desserts do you typically have at Thanksgiving dinner? Please select all that apply.   - Apple cobbler\"])\n",
    "Blondies_isnull=pd.isnull(data[\"Which of these desserts do you typically have at Thanksgiving dinner? Please select all that apply.   - Blondies\"])\n",
    "Icecream_isnull=pd.isnull(data[\"Which of these desserts do you typically have at Thanksgiving dinner? Please select all that apply.   - Ice cream\"])\n",
    "Cheesecake_isnull=pd.isnull(data[\"Which of these desserts do you typically have at Thanksgiving dinner? Please select all that apply.   - Cheesecake\"])\n",
    "Carrotcake_isnull=pd.isnull(data[\"Which of these desserts do you typically have at Thanksgiving dinner? Please select all that apply.   - Carrot cake\"])\n",
    "\n",
    "dessert_ate_by_all=Brownies_isnull & Peach_isnull & Fudge_isnull & Cookies_isnull & Apple_isnull & Blondies_isnull & Icecream_isnull & Cheesecake_isnull & Carrotcake_isnull\n",
    "data[\"dessert_ate_by_all\"]=dessert_ate_by_all\n",
    "data[\"dessert_ate_by_all\"].value_counts()\n",
    "\n",
    "\n",
    "\n"
   ]
  },
  {
   "cell_type": "markdown",
   "metadata": {},
   "source": [
    "#from above we can deduce that 577 people would eat one or more of the above dessert and 481 would not eat any of the above dessert. \n",
    "#we can say here that if we would recommend dessert during thanksgiving we can fairly recommend any or all of the above where one can make his choice.\n",
    "\n",
    "#the question would be: what desserts should we recommend during subsequent thanksgiving?\n"
   ]
  },
  {
   "cell_type": "code",
   "execution_count": 24,
   "metadata": {
    "collapsed": false
   },
   "outputs": [
    {
     "name": "stdout",
     "output_type": "stream",
     "text": [
      "Below are number of those who ate each of the dessert:\n",
      "Brownies 128\n",
      "Peach cobbler 103\n",
      "Fudge 43\n",
      "Cookies 204\n",
      "Apple cobbler 110\n",
      "Blondies 16\n",
      "Ice cream 266\n",
      "Cheese cake 191\n",
      "Carrot cake 72\n",
      "Highest num is 266\n"
     ]
    }
   ],
   "source": [
    "from pandas import Series\n",
    "brownies=data[\"Which of these desserts do you typically have at Thanksgiving dinner? Please select all that apply.   - Brownies\"][Brownies_isnull==False]\n",
    "peach=data[\"Which of these desserts do you typically have at Thanksgiving dinner? Please select all that apply.   - Peach cobbler\"][Peach_isnull==False]\n",
    "fudge=data[\"Which of these desserts do you typically have at Thanksgiving dinner? Please select all that apply.   - Fudge\"][Fudge_isnull==False]\n",
    "cookies=data[\"Which of these desserts do you typically have at Thanksgiving dinner? Please select all that apply.   - Cookies\"][Cookies_isnull==False]\n",
    "apple=data[\"Which of these desserts do you typically have at Thanksgiving dinner? Please select all that apply.   - Apple cobbler\"][Apple_isnull==False]\n",
    "blondies=data[\"Which of these desserts do you typically have at Thanksgiving dinner? Please select all that apply.   - Blondies\"][Blondies_isnull==False]\n",
    "icecream=data[\"Which of these desserts do you typically have at Thanksgiving dinner? Please select all that apply.   - Ice cream\"][Icecream_isnull==False]\n",
    "cheesecake=data[\"Which of these desserts do you typically have at Thanksgiving dinner? Please select all that apply.   - Cheesecake\"][Cheesecake_isnull==False]\n",
    "carrot=data[\"Which of these desserts do you typically have at Thanksgiving dinner? Please select all that apply.   - Carrot cake\"][Carrotcake_isnull==False]\n",
    "\n",
    "print(\"Below are number of those who ate each of the dessert:\")\n",
    "print(\"Brownies \" + str(len(brownies)))\n",
    "print(\"Peach cobbler \" + str(len(peach)))\n",
    "print(\"Fudge \" + str(len(fudge)))\n",
    "print(\"Cookies \" + str(len(cookies)))\n",
    "print(\"Apple cobbler \" + str(len(apple)))\n",
    "print(\"Blondies \" + str(len(blondies)))\n",
    "print(\"Ice cream \" + str(len(icecream)))\n",
    "print(\"Cheese cake \" + str(len(cheesecake)))\n",
    "print(\"Carrot cake \" + str(len(carrot)))\n",
    "\n",
    "desserts=Series([len(brownies),len(peach),len(fudge),len(cookies),len(apple),len(blondies),len(icecream),len(cheesecake),len(carrot)])\n",
    "maximum_score=desserts.max()\n",
    "print(\"Highest num is \" + str(maximum_score))\n"
   ]
  },
  {
   "cell_type": "markdown",
   "metadata": {},
   "source": [
    "#most common dessert from the above analysis is\n",
    "#Ice cream\n",
    "#hence we can recommend: Ice cream, cookies, cheese cake as top three dessert choice of people during thanksgiving.\n",
    "#although some people that went for one type of dessert also are likely to go for other type of dessert\n"
   ]
  },
  {
   "cell_type": "markdown",
   "metadata": {},
   "source": [
    "#the most common dish people eat can be gotten as:\n"
   ]
  },
  {
   "cell_type": "code",
   "execution_count": 25,
   "metadata": {
    "collapsed": false
   },
   "outputs": [
    {
     "data": {
      "text/plain": [
       "Turkey                    859\n",
       "Other (please specify)     35\n",
       "Ham/Pork                   29\n",
       "Tofurkey                   20\n",
       "Chicken                    12\n",
       "Roast beef                 11\n",
       "I don't know                5\n",
       "Turducken                   3\n",
       "dtype: int64"
      ]
     },
     "execution_count": 25,
     "metadata": {},
     "output_type": "execute_result"
    }
   ],
   "source": [
    "data[\"What is typically the main dish at your Thanksgiving dinner?\"].value_counts()"
   ]
  },
  {
   "cell_type": "markdown",
   "metadata": {},
   "source": [
    "Hence Turkey is the most common dish at thanksgiving"
   ]
  },
  {
   "cell_type": "markdown",
   "metadata": {},
   "source": [
    "#How many people work on thanksgiving\n",
    "to figure this out, it is dependent on the question\n",
    "#Will you employer make you work on Black Friday?\n",
    "#Do you work in retail?\n"
   ]
  },
  {
   "cell_type": "code",
   "execution_count": 30,
   "metadata": {
    "collapsed": false
   },
   "outputs": [
    {
     "data": {
      "text/plain": [
       "Yes              43\n",
       "No               20\n",
       "Doesn't apply     7\n",
       "dtype: int64"
      ]
     },
     "execution_count": 30,
     "metadata": {},
     "output_type": "execute_result"
    }
   ],
   "source": [
    "data[\"Will you employer make you work on Black Friday?\"].value_counts()\n"
   ]
  },
  {
   "cell_type": "code",
   "execution_count": 31,
   "metadata": {
    "collapsed": false
   },
   "outputs": [
    {
     "data": {
      "text/plain": [
       "No     881\n",
       "Yes     70\n",
       "dtype: int64"
      ]
     },
     "execution_count": 31,
     "metadata": {},
     "output_type": "execute_result"
    }
   ],
   "source": [
    "data[\"Do you work in retail?\"].value_counts()"
   ]
  },
  {
   "cell_type": "code",
   "execution_count": 34,
   "metadata": {
    "collapsed": false
   },
   "outputs": [
    {
     "data": {
      "text/plain": [
       "Yes    43\n",
       "dtype: int64"
      ]
     },
     "execution_count": 34,
     "metadata": {},
     "output_type": "execute_result"
    }
   ],
   "source": [
    "#figuring out people who would work on black friday and those that are retailers or not from then\n",
    "data_new=data[data[\"Will you employer make you work on Black Friday?\"]==\"Yes\"]\n",
    "data_new[\"Do you work in retail?\"].value_counts()"
   ]
  },
  {
   "cell_type": "markdown",
   "metadata": {},
   "source": [
    "#from the above, we can analyse that:\n",
    "#all employers that work on black friday are retailers\n",
    "#27 people are self employed working as a retailer: since 70 work in retail, 43 will work for an employer on black friday, and all 43 do work in retail. Hence the remaining (70-43) 27 who work in retail do not work for an employer."
   ]
  },
  {
   "cell_type": "markdown",
   "metadata": {},
   "source": [
    "#finding regional patterns\n"
   ]
  },
  {
   "cell_type": "code",
   "execution_count": 35,
   "metadata": {
    "collapsed": false
   },
   "outputs": [
    {
     "data": {
      "text/plain": [
       "South Atlantic        214\n",
       "Middle Atlantic       159\n",
       "East North Central    150\n",
       "Pacific               146\n",
       "West South Central     91\n",
       "West North Central     74\n",
       "East South Central     60\n",
       "New England            58\n",
       "Mountain               47\n",
       "dtype: int64"
      ]
     },
     "execution_count": 35,
     "metadata": {},
     "output_type": "execute_result"
    }
   ],
   "source": [
    "data[\"US Region\"].value_counts()"
   ]
  },
  {
   "cell_type": "code",
   "execution_count": 38,
   "metadata": {
    "collapsed": false
   },
   "outputs": [
    {
     "name": "stdout",
     "output_type": "stream",
     "text": [
      "Turkey                    181\n",
      "Ham/Pork                    7\n",
      "Other (please specify)      6\n",
      "Roast beef                  3\n",
      "Tofurkey                    3\n",
      "Chicken                     3\n",
      "dtype: int64\n"
     ]
    }
   ],
   "source": [
    "#associating regional patterns in dinner menu\n",
    "#we try to find what kinds of food are eaten by a kind of regional pattern\n",
    "#this will help us know how to market the dish \n",
    "\n",
    "def selectdish(region):\n",
    "    dish_list=data[data[\"US Region\"]==region][\"What is typically the main dish at your Thanksgiving dinner?\"]\n",
    "    return Series(dish_list)\n",
    "\n",
    "dishlist=selectdish(\"South Atlantic\")\n",
    "print(dishlist.value_counts())\n"
   ]
  },
  {
   "cell_type": "code",
   "execution_count": null,
   "metadata": {
    "collapsed": true
   },
   "outputs": [],
   "source": [
    "#from the above analysis we can say that Turkey is most eaten by south atlantic people\n",
    "#this will enhance our marketing and awareness of our brand of turkey during thanksgiving"
   ]
  },
  {
   "cell_type": "code",
   "execution_count": 59,
   "metadata": {
    "collapsed": false
   },
   "outputs": [
    {
     "name": "stdout",
     "output_type": "stream",
     "text": [
      "Turkey                    130\n",
      "Tofurkey                    5\n",
      "Other (please specify)      4\n",
      "Roast beef                  2\n",
      "Ham/Pork                    2\n",
      "Turducken                   1\n",
      "Chicken                     1\n",
      "dtype: int64\n"
     ]
    }
   ],
   "source": [
    "#import numpy as np\n",
    "dishlist_middleatlantic=selectdish(\"Middle Atlantic\")\n",
    "print(dishlist_middleatlantic.value_counts())\n",
    "#data[\"int_income\"].value_counts()\n",
    "#data.pivot_table(index=\"What is typically the main dish at your Thanksgiving dinner?\",values=\"int_income\",aggfunc=np.sum)"
   ]
  },
  {
   "cell_type": "code",
   "execution_count": null,
   "metadata": {
    "collapsed": true
   },
   "outputs": [],
   "source": [
    "#from the above analysis we can say that Turkey is most eaten by Middle Atlantic people\n",
    "#this will enhance our marketing and awareness of our brand of turkey during thanksgiving.\n",
    "#giving from the most consumed dish type above being turkey, it will be obvious that the 9 regions will prefer\n",
    "#turkey to other type of dish"
   ]
  },
  {
   "cell_type": "markdown",
   "metadata": {},
   "source": [
    "#now we want to ask this question:\n",
    "#why do people go more for turkey than the other kinds of dish\n",
    "#could it be because of income?\n",
    "#lets relate average income for each type of dish then..."
   ]
  },
  {
   "cell_type": "code",
   "execution_count": 57,
   "metadata": {
    "collapsed": false
   },
   "outputs": [
    {
     "data": {
      "text/plain": [
       "What is typically the main dish at your Thanksgiving dinner?\n",
       "Chicken                    40500.000000\n",
       "Ham/Pork                   65370.370370\n",
       "I don't know               16666.666667\n",
       "Other (please specify)     79193.548387\n",
       "Roast beef                 35625.000000\n",
       "Tofurkey                   73235.294118\n",
       "Turducken                 200000.000000\n",
       "Turkey                     77113.543092\n",
       "Name: int_income, dtype: float64"
      ]
     },
     "execution_count": 57,
     "metadata": {},
     "output_type": "execute_result"
    }
   ],
   "source": [
    "def return_intincome(string_income):\n",
    "    if(pd.isnull(string_income)):\n",
    "        return None\n",
    "    \n",
    "    string_income=string_income.split(\" \")[0]\n",
    "    if(string_income=='Prefer'):\n",
    "        return None\n",
    "    string_income=string_income.replace(\"$\", \"\")\n",
    "    string_income=string_income.replace(\",\", \"\")\n",
    "    return int(string_income)\n",
    "\n",
    "earn_count=data[\"How much total combined money did all members of your HOUSEHOLD earn last year?\"].value_counts()\n",
    "#print(earn_count)\n",
    "income_integer=data[\"How much total combined money did all members of your HOUSEHOLD earn last year?\"].apply(return_intincome)\n",
    "data[\"int_income\"]=income_integer\n",
    "result_described=data[\"int_income\"].describe()\n",
    "#print(result_described)\n",
    "#data[\"int_income\"].value_counts()\n",
    "data.pivot_table(index=\"What is typically the main dish at your Thanksgiving dinner?\",values=\"int_income\",aggfunc=np.mean)"
   ]
  },
  {
   "cell_type": "code",
   "execution_count": null,
   "metadata": {
    "collapsed": true
   },
   "outputs": [],
   "source": [
    "#from the above we can see that average income for those who eat Turducken is higher than those who eat Turkey\n",
    "#hence we musnt conclude that it is because of income, rather it might be choice or likeness for the food\n",
    "#though it is fine to hypothesize since Turkey is the next after Turducken...hence income could influence this as well\n",
    "\n",
    "#looking at it based on cost: Turducken might be more expensive than Turkey and \n",
    "#Turkey might be expensive than the other kinds of food, hence people went for dish their income could afford\n",
    "\n",
    "#acording to a source: http://www.wholefoodsmarket.com/blog/turducken-showstopping-holiday-roast\n",
    "#turducken is a combination of deboned turkey, deboned chicken and deboned duck stuffed into each other and spiced and then\n",
    "#cooked for about 5-7 hourse...who wouldnt say this might cost a lot, but it taste nice and your thanksgiving would still be talked\n",
    "#about even after days to come...\n"
   ]
  }
 ],
 "metadata": {
  "kernelspec": {
   "display_name": "Python 3",
   "language": "python",
   "name": "python3"
  },
  "language_info": {
   "codemirror_mode": {
    "name": "ipython",
    "version": 3
   },
   "file_extension": ".py",
   "mimetype": "text/x-python",
   "name": "python",
   "nbconvert_exporter": "python",
   "pygments_lexer": "ipython3",
   "version": "3.4.3"
  }
 },
 "nbformat": 4,
 "nbformat_minor": 0
}
